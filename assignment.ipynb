{
 "cells": [
  {
   "cell_type": "code",
   "execution_count": 1,
   "id": "ccb2c4f9-0dc2-449a-b538-a7fa0099d550",
   "metadata": {},
   "outputs": [
    {
     "name": "stdin",
     "output_type": "stream",
     "text": [
      "Enter a message:  hello.david\n"
     ]
    },
    {
     "name": "stdout",
     "output_type": "stream",
     "text": [
      "{'h': 1, 'e': 1, 'l': 2, 'o': 1, '.': 1, 'd': 2, 'a': 1, 'v': 1, 'i': 1}\n"
     ]
    }
   ],
   "source": [
    "def count_characters(msg):\n",
    "    frequency = {}  \n",
    "    for char in msg.lower():  \n",
    "        frequency[char] = frequency.get(char, 0) + 1  \n",
    "    return frequency\n",
    "\n",
    "\n",
    "msg = input(\"Enter a message: \")\n",
    "result = count_characters(msg)\n",
    "print(result)"
   ]
  },
  {
   "cell_type": "code",
   "execution_count": 2,
   "id": "d8515f57-4e29-4cf0-8efa-43576baa5bc2",
   "metadata": {},
   "outputs": [
    {
     "name": "stdin",
     "output_type": "stream",
     "text": [
      "Enter a number:  234\n"
     ]
    },
    {
     "name": "stdout",
     "output_type": "stream",
     "text": [
      "Number is not Armstrong\n"
     ]
    }
   ],
   "source": [
    "def is_armstrong(number):\n",
    "    num_str = str(number) \n",
    "    num_digits = len(num_str)  \n",
    "    armstrong_sum = sum(int(digit) ** num_digits for digit in num_str)  \n",
    "    \n",
    "    if armstrong_sum == number:\n",
    "        print(\"Number is Armstrong\")\n",
    "    else:\n",
    "        print(\"Number is not Armstrong\")\n",
    "\n",
    "num = int(input(\"Enter a number: \"))  \n",
    "is_armstrong(num)"
   ]
  },
  {
   "cell_type": "code",
   "execution_count": 4,
   "id": "95d90c05-0f3c-4699-81f0-7175e7cf3922",
   "metadata": {},
   "outputs": [
    {
     "name": "stdin",
     "output_type": "stream",
     "text": [
      "Enter a sentence:  Have a nice day\n"
     ]
    },
    {
     "name": "stdout",
     "output_type": "stream",
     "text": [
      "day\n"
     ]
    }
   ],
   "source": [
    "def is_prime(n):\n",
    "    if n < 2:\n",
    "        return False\n",
    "    for i in range(2, n):\n",
    "        if n % i == 0:\n",
    "            return False\n",
    "    return True\n",
    "\n",
    "def find_prime_length_words(sentence):\n",
    "    words = sentence.split()  \n",
    "    result = []  \n",
    "    \n",
    "    for word in words:\n",
    "        word = ''.join(char for char in word if char.isalnum())  \n",
    "        if is_prime(len(word)):  \n",
    "            result.append(word)\n",
    "    \n",
    "    return \" \".join(result)  \n",
    "sentence = input(\"Enter a sentence: \")\n",
    "print(find_prime_length_words(sentence))"
   ]
  }
 ],
 "metadata": {
  "kernelspec": {
   "display_name": "Python 3 (ipykernel)",
   "language": "python",
   "name": "python3"
  },
  "language_info": {
   "codemirror_mode": {
    "name": "ipython",
    "version": 3
   },
   "file_extension": ".py",
   "mimetype": "text/x-python",
   "name": "python",
   "nbconvert_exporter": "python",
   "pygments_lexer": "ipython3",
   "version": "3.12.3"
  }
 },
 "nbformat": 4,
 "nbformat_minor": 5
}
